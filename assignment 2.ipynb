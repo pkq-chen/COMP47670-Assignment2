{
 "cells": [
  {
   "cell_type": "markdown",
   "metadata": {},
   "source": [
    "# <font face=\"Trebuchet MS\" size=6 color=black >COMP41680 Assignment 2\n",
    "    "
   ]
  },
  {
   "cell_type": "markdown",
   "metadata": {},
   "source": [
    "## <font face=\"Trebuchet MS\" size=4 color=black >**Abstract:**"
   ]
  },
  {
   "cell_type": "markdown",
   "metadata": {},
   "source": [
    "<font face=\"Trebuchet MS\" size=2.5 color=black >    &emsp; &emsp; This assignment first mined the data provided by the link, then processed by text analysis, and finally classified by some machine learning methods to achieve text classification. The categories chosen are <font face=\"Trebuchet MS\" size=2.5 color= green > cafe, hotel and restaurant."
   ]
  },
  {
   "cell_type": "markdown",
   "metadata": {},
   "source": [
    "## <font face=\"Trebuchet MS\" size=4 color=black >**Task description:**"
   ]
  },
  {
   "cell_type": "markdown",
   "metadata": {},
   "source": [
    "<font face=\"Trebuchet MS\" size=2.5 color=black > Task 1 : Mining data from the link provided."
   ]
  },
  {
   "cell_type": "markdown",
   "metadata": {},
   "source": [
    "<font face=\"Trebuchet MS\" size=2.5 color=black > Task 2 : Text analysis processing."
   ]
  },
  {
   "cell_type": "markdown",
   "metadata": {},
   "source": [
    "<font face=\"Trebuchet MS\" size=2.5 color=black > Task 3 : Model training and choosing."
   ]
  },
  {
   "cell_type": "markdown",
   "metadata": {},
   "source": [
    "<font face=\"Trebuchet MS\" size=2.5 color=black > Task 4 : evaluation processing."
   ]
  },
  {
   "cell_type": "markdown",
   "metadata": {},
   "source": [
    "## <font face=\"Trebuchet MS\" size=4 color=black >**Task 1: Mining data from the link provided:**"
   ]
  },
  {
   "cell_type": "code",
   "execution_count": 40,
   "metadata": {},
   "outputs": [],
   "source": [
    "# the library needed\n",
    "import requests\n",
    "import pandas as pd\n",
    "from bs4 import BeautifulSoup"
   ]
  },
  {
   "cell_type": "markdown",
   "metadata": {},
   "source": [
    "### <font face=\"Trebuchet MS\" size=4 color=black > 1.1 module function description"
   ]
  },
  {
   "cell_type": "markdown",
   "metadata": {},
   "source": [
    "<font face=\"Trebuchet MS\" size=2.5 color=black >&emsp; &emsp; module 1 : Grab the hyperlink of category by BeautifulSoup."
   ]
  },
  {
   "cell_type": "code",
   "execution_count": 41,
   "metadata": {},
   "outputs": [],
   "source": [
    "def Initial1_ParseHtml(url):\n",
    "    f0 = requests.get(url)\n",
    "    f0_html = f0.content.decode('utf-8')\n",
    "    f0Soup = BeautifulSoup(f0_html, \"html.parser\")\n",
    "    return f0Soup"
   ]
  },
  {
   "cell_type": "markdown",
   "metadata": {},
   "source": [
    "<font face=\"Trebuchet MS\" size=2.5 color=black >&emsp; &emsp; module 2 : Parse the web from category link and get business link."
   ]
  },
  {
   "cell_type": "code",
   "execution_count": 42,
   "metadata": {},
   "outputs": [],
   "source": [
    "def Initial2_CateProcess(category):\n",
    "    Dict = {}\n",
    "    f0Soup = Initial1_ParseHtml(url)\n",
    "    for element in f0Soup.find_all('h4'):\n",
    "        Dict[element.a.text.split(': ')[1]] = url + element.a['href']\n",
    "    return Dict[category]"
   ]
  },
  {
   "cell_type": "markdown",
   "metadata": {},
   "source": [
    "<font face=\"Trebuchet MS\" size=2.5 color=black >&emsp; &emsp; module 3 : Parse the web from business link and get store link."
   ]
  },
  {
   "cell_type": "code",
   "execution_count": 43,
   "metadata": {},
   "outputs": [],
   "source": [
    "def Initial3_NameProcess(category_url):\n",
    "    new_url = []\n",
    "    f1_Soup = Initial1_ParseHtml(category_url)\n",
    "    for element in f1_Soup.find_all('h5'):\n",
    "        new_url.append(url + element.a['href'] )\n",
    "    return new_url"
   ]
  },
  {
   "cell_type": "markdown",
   "metadata": {},
   "source": [
    "<font face=\"Trebuchet MS\" size=2.5 color=black >&emsp; &emsp; module 4 & 5 : store the review of customers and judgement into the CSV files."
   ]
  },
  {
   "cell_type": "code",
   "execution_count": 44,
   "metadata": {},
   "outputs": [],
   "source": [
    "def Initial4_load(Final_Soup, path, head_count):\n",
    "    stars = []\n",
    "    evaluations = []\n",
    "    for element in Final_Soup.find_all('div', {'class': \"review\"}):\n",
    "        a = int(element.p.next_sibling.img['alt'][0])\n",
    "        \n",
    "        # if the num of stars is larger than 3, treat it as the positive review\n",
    "        \n",
    "        if (a > 3):\n",
    "            stars.append(1)\n",
    "            \n",
    "        # less than 3 , as the negative \n",
    "        \n",
    "        else:\n",
    "            stars.append(0)\n",
    "        evaluation = element.p.next_sibling.next_sibling.text\n",
    "        evaluations.append(evaluation)\n",
    "    Csv_store(path, evaluations, stars, head_count)\n",
    "            \n",
    "# Store into csv files\n",
    "\n",
    "def Csv_store(path, evaluations, stars, head_count):\n",
    "    df = pd.DataFrame()\n",
    "    df['evaluation'] = evaluations\n",
    "    df['stars'] = stars\n",
    "    if(head_count == 0):\n",
    "        df.to_csv(path , index = 0)\n",
    "    else:\n",
    "        df.to_csv(path, mode = 'a', index = 0, header = 0)"
   ]
  },
  {
   "cell_type": "markdown",
   "metadata": {},
   "source": [
    "### <font face=\"Trebuchet MS\" size=4 color=black > 1.2 Web data mining implementation"
   ]
  },
  {
   "cell_type": "markdown",
   "metadata": {},
   "source": [
    "<font face=\"Trebuchet MS\" size=2.5 color=green >&emsp; &emsp; The categories chosen are cafes, hotels and restaurants. <font face=\"Trebuchet MS\" size=2.5 color=black > In addition, explain the details about the processing of cafe category, the other two are similar."
   ]
  },
  {
   "cell_type": "markdown",
   "metadata": {},
   "source": [
    " <font face=\"Trebuchet MS\" size=2.5 color=black > The data mining from cafe category"
   ]
  },
  {
   "cell_type": "code",
   "execution_count": 45,
   "metadata": {},
   "outputs": [],
   "source": [
    "# the link provided and file path\n",
    "url = 'http://mlg.ucd.ie/modules/yalp/'       \n",
    "path1 = 'cafes.csv'"
   ]
  },
  {
   "cell_type": "markdown",
   "metadata": {},
   "source": [
    "<font face=\"Trebuchet MS\" size=2.5 color=black >&emsp; &emsp; Firstly, get the category link "
   ]
  },
  {
   "cell_type": "code",
   "execution_count": 46,
   "metadata": {},
   "outputs": [
    {
     "name": "stdout",
     "output_type": "stream",
     "text": [
      "http://mlg.ucd.ie/modules/yalp/cafes_list.html\n"
     ]
    }
   ],
   "source": [
    "category_url = Initial2_CateProcess('Cafes')\n",
    "print(category_url)"
   ]
  },
  {
   "cell_type": "markdown",
   "metadata": {},
   "source": [
    "<font face=\"Trebuchet MS\" size=2.5 color=black >&emsp; &emsp;Secondly, the store names link "
   ]
  },
  {
   "cell_type": "code",
   "execution_count": 47,
   "metadata": {},
   "outputs": [
    {
     "name": "stdout",
     "output_type": "stream",
     "text": [
      "http://mlg.ucd.ie/modules/yalp/review_set_semizMsHqDfT_kOXQITSOA.html\n",
      "http://mlg.ucd.ie/modules/yalp/review_set_WWTQUb_NUAd5Q_k7jq2r0A.html\n",
      "http://mlg.ucd.ie/modules/yalp/review_set_6Or07nY9iiSSJf-Kaf0GMw.html\n",
      "http://mlg.ucd.ie/modules/yalp/review_set_4l5SRJkmjrRkYVxWNVwFsg.html\n",
      "http://mlg.ucd.ie/modules/yalp/review_set_TpwCjlKsdYjLsvlYhKGt4g.html\n"
     ]
    }
   ],
   "source": [
    "store_name_url = Initial3_NameProcess(category_url)\n",
    "for i in range(0, 5):\n",
    "    print (store_name_url[i])\n",
    "    \n",
    "# Considering the reading experience, five links are enough"
   ]
  },
  {
   "cell_type": "markdown",
   "metadata": {},
   "source": [
    "<font face=\"Trebuchet MS\" size=2.5 color=black >&emsp; &emsp;Thirdly, store the reviews into CSV file"
   ]
  },
  {
   "cell_type": "code",
   "execution_count": 48,
   "metadata": {},
   "outputs": [
    {
     "name": "stdout",
     "output_type": "stream",
     "text": [
      "                                          evaluation  stars\n",
      "0  Pros: Lots of items you would not expect from ...      1\n",
      "1  Best egg-tarts in town! There's really not muc...      1\n",
      "2  I've been to ABC Bakery a few times since I re...      0\n",
      "3  FYI, Closed Monday's New ownership for about 1...      0\n",
      "4  The inside may not look like much but they mak...      1\n"
     ]
    }
   ],
   "source": [
    "head_count = 0  # This reference is used for avoiding the overlap of heading in csv files\n",
    "for url in store_name_url:\n",
    "    Cafe_Soup = Initial1_ParseHtml(url)\n",
    "    Initial4_load(Cafe_Soup, path1, head_count)\n",
    "    head_count = head_count + 1\n",
    "    \n",
    "df_cafe = pd.read_csv(path1)\n",
    "print(df_cafe.head())"
   ]
  },
  {
   "cell_type": "markdown",
   "metadata": {},
   "source": [
    "<font face=\"Trebuchet MS\" size=2.5 color=black > The data mining from hotel category"
   ]
  },
  {
   "cell_type": "code",
   "execution_count": 49,
   "metadata": {},
   "outputs": [],
   "source": [
    "url = 'http://mlg.ucd.ie/modules/yalp/'\n",
    "path2 = 'Hotels.csv'\n",
    "head_count = 0\n",
    "category_url = Initial2_CateProcess('Hotels')\n",
    "for url in Initial3_NameProcess(category_url):\n",
    "    Hotels_Soup = Initial1_ParseHtml(url)\n",
    "    Initial4_load(Hotels_Soup, path2, head_count)\n",
    "    head_count = head_count + 1"
   ]
  },
  {
   "cell_type": "markdown",
   "metadata": {},
   "source": [
    "<font face=\"Trebuchet MS\" size=2.5 color=black >The data mining from restaurant category"
   ]
  },
  {
   "cell_type": "code",
   "execution_count": 50,
   "metadata": {},
   "outputs": [],
   "source": [
    "url = 'http://mlg.ucd.ie/modules/yalp/'\n",
    "path3 = 'Restaurants.csv'\n",
    "head_count = 0\n",
    "category_url = Initial2_CateProcess('Restaurants')\n",
    "for url in Initial3_NameProcess(category_url):\n",
    "    Hotels_Soup = Initial1_ParseHtml(url)\n",
    "    Initial4_load(Hotels_Soup, path3, head_count)  \n",
    "    head_count = head_count + 1"
   ]
  },
  {
   "cell_type": "markdown",
   "metadata": {},
   "source": [
    "## <font face=\"Trebuchet MS\" size=4 color=black >**Task 2 : Text analysis processing.:**"
   ]
  },
  {
   "cell_type": "markdown",
   "metadata": {},
   "source": [
    "<font face=\"Trebuchet MS\" size=2.5 color=black >&emsp; &emsp; In text analysis, text preprocessing is necessary.In this chapter, we use the tokenisation, stemming, lemmatisation and stopword removing for text pretreatment.Tf-idf is used to measure word frequency. The reasons for using these methods will be discussed later, but in any case, there is no doubt that these methods will make word processing better."
   ]
  },
  {
   "cell_type": "code",
   "execution_count": 51,
   "metadata": {},
   "outputs": [],
   "source": [
    "# Libraries neede and file loaded\n",
    "import pandas as pd\n",
    "import nltk\n",
    "import re\n",
    "from nltk.stem.snowball import SnowballStemmer\n",
    "from nltk.corpus import stopwords \n",
    "from sklearn.feature_extraction.text import TfidfVectorizer\n",
    "\n",
    "\n",
    "path1 = 'cafes.csv'\n",
    "path2 = 'Hotels.csv'\n",
    "path3 = 'Restaurants.csv'\n",
    "\n",
    "df_cafe = pd.read_csv(path1)\n",
    "df_hotel = pd.read_csv(path2)\n",
    "df_Res = pd.read_csv(path3)"
   ]
  },
  {
   "cell_type": "markdown",
   "metadata": {},
   "source": [
    "### <font face=\"Trebuchet MS\" size=4 color=black > 2.1 Tokennisation, stemming, lemmatisation and stopword removing"
   ]
  },
  {
   "cell_type": "markdown",
   "metadata": {},
   "source": [
    "<font face=\"Trebuchet MS\" size=2.5 color=black > Tokenisation used for words splitting  \n",
    "    Stemming used for recognising variations of the same stem or root <font face=\"Trebuchet MS\" size=2.5 color=green > ( fish~ for fishes, fishing...)  \n",
    "    <font face=\"Trebuchet MS\" size=2.5 color=black >lemmatising used for grouping different inflected forms of a word so they can be analysed as a single stem  <font face=\"Trebuchet MS\" size=2.5 color=green >( woman and women... )  \n",
    "    <font face=\"Trebuchet MS\" size=2.5 color=black >Stopword removing is pretty neccessary. The removing of these redundant words<font face=\"Trebuchet MS\" size=2.5 color=green > ( the , for, is ...)<font face=\"Trebuchet MS\" size=2.5 color=black >would improve the performance of training model and save time of words frequency processing <font face=\"Trebuchet MS\" size=2.5 color=green>(tf-idf)  \n",
    "        <font face=\"Trebuchet MS\" size=2.5 color=black > Punctuations are similiar as the stopwords, redundant and useless, it is good for next processing if droping them out."
   ]
  },
  {
   "cell_type": "code",
   "execution_count": 52,
   "metadata": {},
   "outputs": [
    {
     "name": "stdout",
     "output_type": "stream",
     "text": [
      "                                          evaluation  stars\n",
      "0  pro lot item would expect chine bakeri friend ...      1\n",
      "1  best egg tart town there  s realli much say ho...      1\n",
      "2  i  ve abc bakeri time sinc i read one top plac...      0\n",
      "3  fyi close monday  s new ownership 10 week new ...      0\n",
      "4  the insid may look like much make mean egg tar...      1\n"
     ]
    }
   ],
   "source": [
    "def text_proprocess(df):\n",
    "    suggestions = []\n",
    "    stemmer = SnowballStemmer('english')\n",
    "    wn = nltk.WordNetLemmatizer()\n",
    "    stop_words = set(stopwords.words('english')) \n",
    "    for evaluation in df.evaluation:\n",
    "        suggestion = []\n",
    "        tokens = nltk.word_tokenize(evaluation)\n",
    "        for word in tokens:\n",
    "            # Stop words removing\n",
    "            if word not in stop_words:\n",
    "                # replace punctuation\n",
    "                fix1_word = re.sub(r'[^a-zA-Z0-9]', \" \", word)\n",
    "                # Stemming processing\n",
    "                fix2_word = stemmer.stem(fix1_word)\n",
    "                # Lemmatisation processing\n",
    "                fix3_word = wn.lemmatize(fix2_word)\n",
    "                if(fix3_word != \" \"):\n",
    "                    suggestion.append(fix3_word.lower())\n",
    "        listToStr = ' '.join([str(elem) for elem in suggestion])\n",
    "        suggestions.append(listToStr)\n",
    "    df = df.assign(evaluation = suggestions)\n",
    "    return df\n",
    "\n",
    "df_cafe = text_proprocess(df_cafe)\n",
    "df_hotel = text_proprocess(df_hotel)\n",
    "df_Res = text_proprocess(df_Res)\n",
    "\n",
    "print (df_cafe.head())"
   ]
  },
  {
   "cell_type": "markdown",
   "metadata": {},
   "source": [
    "### <font face=\"Trebuchet MS\" size=4 color=black >2.2 Tf-idf processing"
   ]
  },
  {
   "cell_type": "markdown",
   "metadata": {},
   "source": [
    "<font face=\"Trebuchet MS\" size=2.5 color=black >&emsp; &emsp;  tf-idf would reflect the importance of word rather than the counting frequency. in general, Some words appear sparingly but are useful for analysis (perfect, fnatastic...).Some words come up all the time but don't help us in our analysis (go ,see ...)"
   ]
  },
  {
   "cell_type": "code",
   "execution_count": 53,
   "metadata": {},
   "outputs": [
    {
     "name": "stdout",
     "output_type": "stream",
     "text": [
      "(2000, 4243)\n"
     ]
    }
   ],
   "source": [
    "def Freq_process(df):\n",
    "    vectorizer = TfidfVectorizer(min_df=5, ngram_range=(1, 2))\n",
    "    dimension = vectorizer.fit_transform(df.evaluation).toarray()\n",
    "    return dimension\n",
    "\n",
    "dimension = Freq_process(df_cafe)\n",
    "print(dimension.shape)"
   ]
  },
  {
   "cell_type": "markdown",
   "metadata": {},
   "source": [
    "## <font face=\"Trebuchet MS\" size=4 color=black > Task 3 : Model training and choosing."
   ]
  },
  {
   "cell_type": "markdown",
   "metadata": {},
   "source": [
    "<font face=\"Trebuchet MS\" size=2.5 color=black >&emsp; &emsp; There are three sorts of training model provided : Naive Bayes, Logistic Regression, Random Forest. Try to find out which of the three models is more suitable for these three data sets.To prevent overfitting, we used cross validation."
   ]
  },
  {
   "cell_type": "code",
   "execution_count": 54,
   "metadata": {},
   "outputs": [],
   "source": [
    "# Libraries needed:\n",
    "from sklearn.ensemble import RandomForestClassifier\n",
    "from sklearn.naive_bayes import GaussianNB\n",
    "from sklearn.linear_model import LogisticRegression\n",
    "from sklearn.model_selection import cross_val_score\n",
    "# This package just is used for removing redundant alarms and has no actual effect on the program\n",
    "from warnings import simplefilter "
   ]
  },
  {
   "cell_type": "markdown",
   "metadata": {},
   "source": [
    "### <font face=\"Trebuchet MS\" size=4 color=black > 3.1 Cross validation"
   ]
  },
  {
   "cell_type": "markdown",
   "metadata": {},
   "source": [
    "<font face=\"Trebuchet MS\" size=2.5 color=black >&emsp; &emsp;  This module function is used for cross validation. The number of K chosen is 10. "
   ]
  },
  {
   "cell_type": "code",
   "execution_count": 55,
   "metadata": {},
   "outputs": [],
   "source": [
    "def cross_validation(model, df, count):\n",
    "      List = []\n",
    "      if(count == 0):\n",
    "          model_name = 'Naive Bayes'\n",
    "      elif(count == 1):\n",
    "          model_name = 'Random Forest'\n",
    "      elif(count == 2):\n",
    "          model_name = 'Logistic Regression'\n",
    "      accuracies = cross_val_score(model, Freq_process(df), df.stars, scoring='accuracy', cv=10)\n",
    "      for _id , accuracy in enumerate(accuracies):\n",
    "          List.append((model_name,_id, accuracy))\n",
    "      return List"
   ]
  },
  {
   "cell_type": "markdown",
   "metadata": {},
   "source": [
    "###  <font face=\"Trebuchet MS\" size=4 color=black > 3.2 Model choosing"
   ]
  },
  {
   "cell_type": "markdown",
   "metadata": {},
   "source": [
    "<font face=\"Trebuchet MS\" size=2.5 color=black >&emsp; &emsp; This function outputs the accuracy of each model to compare performance"
   ]
  },
  {
   "cell_type": "code",
   "execution_count": 56,
   "metadata": {},
   "outputs": [],
   "source": [
    "def classify_process(df):\n",
    "    models = [GaussianNB(),\n",
    "              RandomForestClassifier(n_estimators=150, max_depth=3, random_state=0),\n",
    "              LogisticRegression()]\n",
    "    interface = []\n",
    "    count = 0\n",
    "    validation_table = pd.DataFrame(index = range(10 * 3))\n",
    "    for model in models:\n",
    "        interface = interface + cross_validation(model, df, count)\n",
    "        count = count + 1\n",
    "    validation_table = pd.DataFrame(interface)\n",
    "    validation_table.columns = ['model name', '_id', 'accuracy']\n",
    "    print(validation_table.groupby('model name').accuracy.mean())"
   ]
  },
  {
   "cell_type": "markdown",
   "metadata": {},
   "source": [
    "<font face=\"Trebuchet MS\" size=2.5 color=black >&emsp; &emsp; Printing out the results. Theoretically, logistic regression should have better results, because the target can be regarded as a binary number, which is more suitable for logistic regression model."
   ]
  },
  {
   "cell_type": "code",
   "execution_count": 57,
   "metadata": {},
   "outputs": [
    {
     "name": "stdout",
     "output_type": "stream",
     "text": [
      "model name\n",
      "Logistic Regression    0.832546\n",
      "Naive Bayes            0.710022\n",
      "Random Forest          0.731002\n",
      "Name: accuracy, dtype: float64\n",
      "model name\n",
      "Logistic Regression    0.886950\n",
      "Naive Bayes            0.754077\n",
      "Random Forest          0.644463\n",
      "Name: accuracy, dtype: float64\n",
      "model name\n",
      "Logistic Regression    0.858984\n",
      "Naive Bayes            0.681997\n",
      "Random Forest          0.623011\n",
      "Name: accuracy, dtype: float64\n"
     ]
    }
   ],
   "source": [
    "simplefilter(action='ignore', category=FutureWarning)\n",
    " \n",
    "classify_process(df_cafe)\n",
    "classify_process(df_hotel)\n",
    "classify_process(df_Res)"
   ]
  },
  {
   "cell_type": "markdown",
   "metadata": {},
   "source": [
    "<font face=\"Trebuchet MS\" size=2.5 color=black >&emsp; &emsp;The results fit our prediction. Therefore, we choose the Logistic Regression as our training model."
   ]
  },
  {
   "cell_type": "markdown",
   "metadata": {},
   "source": [
    "##  <font face=\"Trebuchet MS\" size=4 color=black > Task 4 :  evaluation processing."
   ]
  },
  {
   "cell_type": "markdown",
   "metadata": {},
   "source": [
    "<font face=\"Trebuchet MS\" size=2.5 color=black >&emsp; &emsp; We need to train model by one dataset and evaluate on other two datasets. In order to implementation this, we combine the datasets tested and evaluated and use train_test_split package to divided the dataset combiend into the training dataset and testing dataset at the junction of these two datasets.  \n",
    "    &emsp; &emsp; we need to set the shuffle reference as the False, nor we can't split the two datasets perfectly."
   ]
  },
  {
   "cell_type": "code",
   "execution_count": 58,
   "metadata": {},
   "outputs": [],
   "source": [
    "# libraries needed\n",
    "from sklearn.model_selection import train_test_split\n",
    "import matplotlib.pyplot as plt\n",
    "import matplotlib\n",
    "import seaborn as sn\n",
    "from sklearn import metrics\n",
    "import numpy as np"
   ]
  },
  {
   "cell_type": "markdown",
   "metadata": {},
   "source": [
    "###   <font face=\"Trebuchet MS\" size=4 color=black > 4.1 evluation method"
   ]
  },
  {
   "cell_type": "markdown",
   "metadata": {},
   "source": [
    "<font face=\"Trebuchet MS\" size=2.5 color=black >&emsp; &emsp; Confusion matrix would show the total result vividly. Besides the precision and f1 score also are given to measure the performance of model"
   ]
  },
  {
   "cell_type": "code",
   "execution_count": 59,
   "metadata": {},
   "outputs": [],
   "source": [
    "def ConfusionMatrix(df1, df2, model):\n",
    "    df_copy1 = df1\n",
    "    df_copy2 = df2\n",
    "    new_df = pd.concat([df_copy1,df_copy2])\n",
    "    split_point = len(df_copy1.index)/len(new_df.index)\n",
    "    tf_idf = Freq_process(new_df)\n",
    "    x_train, x_test, y_train, y_test = train_test_split(tf_idf, new_df.stars, \n",
    "                                       train_size=split_point, shuffle=False)\n",
    "    model.fit(x_train, y_train)\n",
    "    cm = pd.crosstab(y_test, model.predict(x_test),\n",
    "         rownames=['Actual'], colnames=['Predicted'])\n",
    "    matplotlib.style.use('ggplot')\n",
    "    fig, ax = plt.subplots(figsize=(8,8))\n",
    "    sn.heatmap(cm / np.sum(cm), annot=True,  fmt='.2%')\n",
    "    plt.title(\"Confusion matrix\",fontsize=15)\n",
    "    plt.rcParams.update({'font.size': 19})\n",
    "    plt.show()\n",
    "    y_pred = model.predict(x_test)\n",
    "    new_df.stars = new_df.stars.astype(str)\n",
    "    print(metrics.classification_report(y_test, y_pred, target_names=new_df['stars'].unique()))"
   ]
  },
  {
   "cell_type": "markdown",
   "metadata": {},
   "source": [
    "###   <font face=\"Trebuchet MS\" size=4 color=black > 4.1 Results discussion"
   ]
  },
  {
   "cell_type": "markdown",
   "metadata": {},
   "source": [
    "<font face=\"Trebuchet MS\" size=2.5 color=black >&emsp; &emsp;  Training model by Cafe category, then evaluating on Hotel and Restaurant."
   ]
  },
  {
   "cell_type": "code",
   "execution_count": 60,
   "metadata": {
    "scrolled": false
   },
   "outputs": [
    {
     "name": "stdout",
     "output_type": "stream",
     "text": [
      "Training_model by dataset cafe, evaluation on dataset hotel\n"
     ]
    },
    {
     "data": {
      "image/png": "[encoded data removed]",
      "text/plain": [
       "<Figure size 576x576 with 2 Axes>"
      ]
     },
     "metadata": {},
     "output_type": "display_data"
    },
    {
     "name": "stdout",
     "output_type": "stream",
     "text": [
      "              precision    recall  f1-score   support\n",
      "\n",
      "           1       0.94      0.48      0.63       824\n",
      "           0       0.73      0.98      0.84      1176\n",
      "\n",
      "   micro avg       0.77      0.77      0.77      2000\n",
      "   macro avg       0.84      0.73      0.73      2000\n",
      "weighted avg       0.82      0.77      0.75      2000\n",
      "\n",
      "Training_model by dataset cafe, evaluation on dataset restaurant\n"
     ]
    },
    {
     "data": {
      "image/png": "[encoded data removed]",
      "text/plain": [
       "<Figure size 576x576 with 2 Axes>"
      ]
     },
     "metadata": {},
     "output_type": "display_data"
    },
    {
     "name": "stdout",
     "output_type": "stream",
     "text": [
      "              precision    recall  f1-score   support\n",
      "\n",
      "           1       0.95      0.52      0.68       838\n",
      "           0       0.74      0.98      0.84      1162\n",
      "\n",
      "   micro avg       0.79      0.79      0.79      2000\n",
      "   macro avg       0.85      0.75      0.76      2000\n",
      "weighted avg       0.83      0.79      0.77      2000\n",
      "\n"
     ]
    }
   ],
   "source": [
    "model = LogisticRegression()\n",
    "print(\"Training_model by dataset cafe, evaluation on dataset hotel\")\n",
    "ConfusionMatrix(df_cafe, df_hotel, model)\n",
    "print(\"Training_model by dataset cafe, evaluation on dataset restaurant\")\n",
    "ConfusionMatrix(df_cafe, df_Res, model)"
   ]
  },
  {
   "cell_type": "markdown",
   "metadata": {},
   "source": [
    "<font face=\"Trebuchet MS\" size=2.5 color=black >&emsp; &emsp; The logistic Regression did a very great job on the dintinguish on negative review, for positive review, it is acceptable. However, it is hard to see the performance of training model is not good at the learning of positive review, because it works on another dataset. It can only be said that when using Cafe category as the training model, it is more suitable for judging the negative review of other data sets. After all, from the perspective of the results, the relevant indicators of positive reviwe are not bad"
   ]
  },
  {
   "cell_type": "markdown",
   "metadata": {},
   "source": [
    "<font face=\"Trebuchet MS\" size=2.5 color=black >&emsp; &emsp;  Training model by Hotel category, then evaluating on Cafe and Restaurant."
   ]
  },
  {
   "cell_type": "code",
   "execution_count": 61,
   "metadata": {},
   "outputs": [
    {
     "name": "stdout",
     "output_type": "stream",
     "text": [
      "Training_model by dataset hotel, evaluation on dataset cafe\n"
     ]
    },
    {
     "data": {
      "image/png": "[encoded data removed]",
      "text/plain": [
       "<Figure size 576x576 with 2 Axes>"
      ]
     },
     "metadata": {},
     "output_type": "display_data"
    },
    {
     "name": "stdout",
     "output_type": "stream",
     "text": [
      "              precision    recall  f1-score   support\n",
      "\n",
      "           1       0.87      0.49      0.63       538\n",
      "           0       0.84      0.97      0.90      1462\n",
      "\n",
      "   micro avg       0.84      0.84      0.84      2000\n",
      "   macro avg       0.86      0.73      0.77      2000\n",
      "weighted avg       0.85      0.84      0.83      2000\n",
      "\n",
      "Training_model by dataset hotel, evaluation on dataset restaurant\n"
     ]
    },
    {
     "data": {
      "image/png": "[encoded data removed]",
      "text/plain": [
       "<Figure size 576x576 with 2 Axes>"
      ]
     },
     "metadata": {},
     "output_type": "display_data"
    },
    {
     "name": "stdout",
     "output_type": "stream",
     "text": [
      "              precision    recall  f1-score   support\n",
      "\n",
      "           1       0.93      0.56      0.70       838\n",
      "           0       0.76      0.97      0.85      1162\n",
      "\n",
      "   micro avg       0.80      0.80      0.80      2000\n",
      "   macro avg       0.84      0.77      0.78      2000\n",
      "weighted avg       0.83      0.80      0.79      2000\n",
      "\n"
     ]
    }
   ],
   "source": [
    "print(\"Training_model by dataset hotel, evaluation on dataset cafe\")\n",
    "ConfusionMatrix(df_hotel, df_cafe, model)\n",
    "print(\"Training_model by dataset hotel, evaluation on dataset restaurant\")\n",
    "ConfusionMatrix(df_hotel, df_Res, model)"
   ]
  },
  {
   "cell_type": "markdown",
   "metadata": {},
   "source": [
    "<font face=\"Trebuchet MS\" size=2.5 color=black >&emsp; &emsp; When the hotel category is used as the training model, it is more suitable for evaluating cafe category. No matter whether it is postive review or negative review, the index results are good.When applied to restaurant caregory, negative reviwe came out very well and positive review came out poorly"
   ]
  },
  {
   "cell_type": "code",
   "execution_count": 62,
   "metadata": {},
   "outputs": [
    {
     "name": "stdout",
     "output_type": "stream",
     "text": [
      "Training_model by dataset restaurant, evaluation on dataset cafe\n"
     ]
    },
    {
     "data": {
      "image/png": "[encoded data removed]",
      "text/plain": [
       "<Figure size 576x576 with 2 Axes>"
      ]
     },
     "metadata": {},
     "output_type": "display_data"
    },
    {
     "name": "stdout",
     "output_type": "stream",
     "text": [
      "              precision    recall  f1-score   support\n",
      "\n",
      "           0       0.83      0.72      0.77       538\n",
      "           1       0.90      0.95      0.92      1462\n",
      "\n",
      "   micro avg       0.89      0.89      0.89      2000\n",
      "   macro avg       0.87      0.83      0.85      2000\n",
      "weighted avg       0.88      0.89      0.88      2000\n",
      "\n",
      "Training_model by dataset restaurant, evaluation on dataset hotel\n"
     ]
    },
    {
     "data": {
      "image/png": "[encoded data removed]",
      "text/plain": [
       "<Figure size 576x576 with 2 Axes>"
      ]
     },
     "metadata": {},
     "output_type": "display_data"
    },
    {
     "name": "stdout",
     "output_type": "stream",
     "text": [
      "              precision    recall  f1-score   support\n",
      "\n",
      "           0       0.79      0.88      0.83       824\n",
      "           1       0.91      0.84      0.87      1176\n",
      "\n",
      "   micro avg       0.85      0.85      0.85      2000\n",
      "   macro avg       0.85      0.86      0.85      2000\n",
      "weighted avg       0.86      0.85      0.86      2000\n",
      "\n"
     ]
    }
   ],
   "source": [
    "print(\"Training_model by dataset restaurant, evaluation on dataset cafe\")\n",
    "ConfusionMatrix(df_Res,df_cafe, model)\n",
    "print(\"Training_model by dataset restaurant, evaluation on dataset hotel\")\n",
    "ConfusionMatrix(df_Res, df_hotel, model)"
   ]
  },
  {
   "cell_type": "markdown",
   "metadata": {},
   "source": [
    "<font face=\"Trebuchet MS\" size=2.5 color=black >&emsp; &emsp;When restaurant category is used as a training model, its effect is very good, whether it is F1 score, recall or precision. However, it cannot be said that its data set is the best, but it is more suitable for training model for cafe and hotel."
   ]
  },
  {
   "cell_type": "markdown",
   "metadata": {},
   "source": [
    " "
   ]
  },
  {
   "cell_type": "markdown",
   "metadata": {},
   "source": [
    "## <font face=\"Trebuchet MS\" size=4 color=black > Conclusion:"
   ]
  },
  {
   "cell_type": "markdown",
   "metadata": {},
   "source": [
    "<font face=\"Trebuchet MS\" size=2.5 color=black >&emsp; &emsp; Although the results are not perfect, they are good because there are differences between different data sets.I think that the pretreatment of the text analysis is critical, in this assignment, use a lot of this aspect of the method (lemmetisation, stemming, punctuation) o...This is very similar to machine leaning. If you want to get a high accuracy, the data preprocessing is very important. A good dataset can achieve twice the result with half the effort than the superb technology."
   ]
  },
  {
   "cell_type": "code",
   "execution_count": null,
   "metadata": {},
   "outputs": [],
   "source": []
  }
 ],
 "metadata": {
  "kernelspec": {
   "display_name": "Python 3",
   "language": "python",
   "name": "python3"
  },
  "language_info": {
   "codemirror_mode": {
    "name": "ipython",
    "version": 3
   },
   "file_extension": ".py",
   "mimetype": "text/x-python",
   "name": "python",
   "nbconvert_exporter": "python",
   "pygments_lexer": "ipython3",
   "version": "3.7.1"
  }
 },
 "nbformat": 4,
 "nbformat_minor": 2
}
